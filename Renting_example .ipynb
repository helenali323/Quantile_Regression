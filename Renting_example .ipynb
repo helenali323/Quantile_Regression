{
 "cells": [
  {
   "cell_type": "code",
   "execution_count": 1,
   "metadata": {
    "ExecuteTime": {
     "end_time": "2019-04-16T15:42:49.866385Z",
     "start_time": "2019-04-16T15:42:48.649558Z"
    }
   },
   "outputs": [],
   "source": [
    "from quantile_regression_class import *"
   ]
  },
  {
   "cell_type": "code",
   "execution_count": 2,
   "metadata": {
    "ExecuteTime": {
     "end_time": "2019-04-16T15:42:50.567910Z",
     "start_time": "2019-04-16T15:42:50.522870Z"
    }
   },
   "outputs": [],
   "source": [
    "data = pd.read_csv(\"data/data.csv\")"
   ]
  },
  {
   "cell_type": "code",
   "execution_count": 3,
   "metadata": {
    "ExecuteTime": {
     "end_time": "2019-04-16T15:42:51.596343Z",
     "start_time": "2019-04-16T15:42:51.577637Z"
    }
   },
   "outputs": [
    {
     "data": {
      "text/html": [
       "<div>\n",
       "<style scoped>\n",
       "    .dataframe tbody tr th:only-of-type {\n",
       "        vertical-align: middle;\n",
       "    }\n",
       "\n",
       "    .dataframe tbody tr th {\n",
       "        vertical-align: top;\n",
       "    }\n",
       "\n",
       "    .dataframe thead th {\n",
       "        text-align: right;\n",
       "    }\n",
       "</style>\n",
       "<table border=\"1\" class=\"dataframe\">\n",
       "  <thead>\n",
       "    <tr style=\"text-align: right;\">\n",
       "      <th></th>\n",
       "      <th>latitude</th>\n",
       "      <th>longitude</th>\n",
       "      <th>date_posted</th>\n",
       "      <th>price</th>\n",
       "      <th>sqft</th>\n",
       "      <th>bedrooms</th>\n",
       "      <th>bathrooms</th>\n",
       "      <th>pets</th>\n",
       "      <th>laundry</th>\n",
       "      <th>parking</th>\n",
       "      <th>craigslist</th>\n",
       "    </tr>\n",
       "  </thead>\n",
       "  <tbody>\n",
       "    <tr>\n",
       "      <th>0</th>\n",
       "      <td>34.860788</td>\n",
       "      <td>-118.170104</td>\n",
       "      <td>2018-10-08 22:29:36</td>\n",
       "      <td>895.0</td>\n",
       "      <td>500.0</td>\n",
       "      <td>1.0</td>\n",
       "      <td>1.0</td>\n",
       "      <td>none</td>\n",
       "      <td>shared</td>\n",
       "      <td>off-street</td>\n",
       "      <td>losangeles</td>\n",
       "    </tr>\n",
       "    <tr>\n",
       "      <th>1</th>\n",
       "      <td>34.861017</td>\n",
       "      <td>-118.169932</td>\n",
       "      <td>2018-10-15 11:44:23</td>\n",
       "      <td>895.0</td>\n",
       "      <td>500.0</td>\n",
       "      <td>1.0</td>\n",
       "      <td>1.0</td>\n",
       "      <td>none</td>\n",
       "      <td>shared</td>\n",
       "      <td>off-street</td>\n",
       "      <td>losangeles</td>\n",
       "    </tr>\n",
       "    <tr>\n",
       "      <th>2</th>\n",
       "      <td>34.861017</td>\n",
       "      <td>-118.169932</td>\n",
       "      <td>2018-10-15 11:53:06</td>\n",
       "      <td>895.0</td>\n",
       "      <td>500.0</td>\n",
       "      <td>1.0</td>\n",
       "      <td>1.0</td>\n",
       "      <td>none</td>\n",
       "      <td>shared</td>\n",
       "      <td>off-street</td>\n",
       "      <td>losangeles</td>\n",
       "    </tr>\n",
       "  </tbody>\n",
       "</table>\n",
       "</div>"
      ],
      "text/plain": [
       "    latitude   longitude          date_posted  price   sqft  bedrooms  \\\n",
       "0  34.860788 -118.170104  2018-10-08 22:29:36  895.0  500.0       1.0   \n",
       "1  34.861017 -118.169932  2018-10-15 11:44:23  895.0  500.0       1.0   \n",
       "2  34.861017 -118.169932  2018-10-15 11:53:06  895.0  500.0       1.0   \n",
       "\n",
       "   bathrooms  pets laundry     parking  craigslist  \n",
       "0        1.0  none  shared  off-street  losangeles  \n",
       "1        1.0  none  shared  off-street  losangeles  \n",
       "2        1.0  none  shared  off-street  losangeles  "
      ]
     },
     "execution_count": 3,
     "metadata": {},
     "output_type": "execute_result"
    }
   ],
   "source": [
    "data.head(3)"
   ]
  },
  {
   "cell_type": "code",
   "execution_count": 5,
   "metadata": {
    "ExecuteTime": {
     "end_time": "2019-04-16T15:43:07.672744Z",
     "start_time": "2019-04-16T15:43:07.658496Z"
    }
   },
   "outputs": [
    {
     "name": "stdout",
     "output_type": "stream",
     "text": [
      "<class 'pandas.core.frame.DataFrame'>\n",
      "RangeIndex: 15552 entries, 0 to 15551\n",
      "Data columns (total 11 columns):\n",
      "latitude       15552 non-null float64\n",
      "longitude      15552 non-null float64\n",
      "date_posted    15552 non-null object\n",
      "price          15552 non-null float64\n",
      "sqft           15552 non-null float64\n",
      "bedrooms       15552 non-null float64\n",
      "bathrooms      15552 non-null float64\n",
      "pets           15552 non-null object\n",
      "laundry        15552 non-null object\n",
      "parking        15552 non-null object\n",
      "craigslist     15552 non-null object\n",
      "dtypes: float64(6), object(5)\n",
      "memory usage: 1.3+ MB\n"
     ]
    }
   ],
   "source": [
    "data.info()"
   ]
  },
  {
   "cell_type": "markdown",
   "metadata": {},
   "source": [
    "This data set contains the renting price scraped from renting website. It covers most major cities in California. However, I'm only intered in the lower quantile of renting price because obviously, I cannot afford the mean value. Next, I will build three models to predict the 25th quantile of renting prices in California and compare the results."
   ]
  },
  {
   "cell_type": "code",
   "execution_count": 8,
   "metadata": {
    "ExecuteTime": {
     "end_time": "2019-04-16T15:50:43.256372Z",
     "start_time": "2019-04-16T15:50:43.250083Z"
    }
   },
   "outputs": [],
   "source": [
    "x = data[['latitude','longitude','sqft','bedrooms','pets','laundry','parking','craigslist']]\n",
    "y = data['price']\n",
    "qt =0.25"
   ]
  },
  {
   "cell_type": "markdown",
   "metadata": {},
   "source": [
    "### Linear Quantile Regression"
   ]
  },
  {
   "cell_type": "markdown",
   "metadata": {},
   "source": [
    "Linear quantile regression is an extention of linear regression model. Instead of using the method of least square, linear quantile regression estimates the nth quantile by minimizing the quantile loss score."
   ]
  },
  {
   "cell_type": "code",
   "execution_count": 9,
   "metadata": {
    "ExecuteTime": {
     "end_time": "2019-04-16T15:50:47.314409Z",
     "start_time": "2019-04-16T15:50:45.256989Z"
    }
   },
   "outputs": [
    {
     "name": "stdout",
     "output_type": "stream",
     "text": [
      "the quantile loss score for linear quantile regression is:  135.1712855757834\n"
     ]
    }
   ],
   "source": [
    "lqr = LinearQuantileRegression(qt, x, y)\n",
    "print(\"the quantile loss score for linear quantile regression is: \",lqr.loss_score())"
   ]
  },
  {
   "cell_type": "markdown",
   "metadata": {},
   "source": [
    "### Random Forest"
   ]
  },
  {
   "cell_type": "code",
   "execution_count": 16,
   "metadata": {
    "ExecuteTime": {
     "end_time": "2019-04-16T16:04:16.129909Z",
     "start_time": "2019-04-16T15:59:23.106922Z"
    }
   },
   "outputs": [
    {
     "name": "stdout",
     "output_type": "stream",
     "text": [
      "the quantile loss score for quantile random forest is:  13.764128301706238\n"
     ]
    }
   ],
   "source": [
    "params_rf = {'n_estimators':300}\n",
    "rf = RandomForestRegression(qt, x, y,params_rf)\n",
    "print(\"the quantile loss score for quantile random forest is: \",rf.loss_score())"
   ]
  },
  {
   "cell_type": "markdown",
   "metadata": {},
   "source": [
    "As is shown in above result, random forest improves the result dramatically. Next, we will explore it's feature importance."
   ]
  },
  {
   "cell_type": "code",
   "execution_count": 20,
   "metadata": {
    "ExecuteTime": {
     "end_time": "2019-04-16T18:14:33.006330Z",
     "start_time": "2019-04-16T18:14:32.891843Z"
    }
   },
   "outputs": [],
   "source": [
    "import seaborn as sns\n",
    "imp = rf.feature_importance()"
   ]
  },
  {
   "cell_type": "code",
   "execution_count": 26,
   "metadata": {
    "ExecuteTime": {
     "end_time": "2019-04-16T18:15:50.226545Z",
     "start_time": "2019-04-16T18:15:50.222789Z"
    }
   },
   "outputs": [],
   "source": [
    "imp = imp.to_frame().reset_index()\n",
    "imp.columns = ['feature','importance']"
   ]
  },
  {
   "cell_type": "code",
   "execution_count": 31,
   "metadata": {
    "ExecuteTime": {
     "end_time": "2019-04-16T18:16:50.964977Z",
     "start_time": "2019-04-16T18:16:50.599948Z"
    }
   },
   "outputs": [
    {
     "data": {
      "image/png": "[encoded data removed]",
      "text/plain": [
       "<Figure size 432x288 with 1 Axes>"
      ]
     },
     "metadata": {
      "needs_background": "light"
     },
     "output_type": "display_data"
    }
   ],
   "source": [
    "ax = sns.barplot(\"importance\", y=\"feature\", data=imp,\n",
    "                  color=\"salmon\", saturation=.5)"
   ]
  },
  {
   "cell_type": "markdown",
   "metadata": {},
   "source": [
    "### Gradient Boosting"
   ]
  },
  {
   "cell_type": "code",
   "execution_count": 12,
   "metadata": {
    "ExecuteTime": {
     "end_time": "2019-04-16T15:57:22.577118Z",
     "start_time": "2019-04-16T15:54:45.208921Z"
    }
   },
   "outputs": [
    {
     "name": "stdout",
     "output_type": "stream",
     "text": [
      "the quantile loss score for quantile gradient boosting is:  7.158248356675713\n"
     ]
    }
   ],
   "source": [
    "params_gb = {'max_depth':None,'n_estimators':300}\n",
    "gb = GradientBoostingRegression(0.1, x, y,params_gb)\n",
    "print(\"the quantile loss score for quantile gradient boosting is: \",gb.loss_score())"
   ]
  },
  {
   "cell_type": "code",
   "execution_count": 32,
   "metadata": {
    "ExecuteTime": {
     "end_time": "2019-04-16T18:17:36.360129Z",
     "start_time": "2019-04-16T18:17:36.318770Z"
    }
   },
   "outputs": [],
   "source": [
    "imp = gb.feature_importance()"
   ]
  },
  {
   "cell_type": "code",
   "execution_count": 33,
   "metadata": {
    "ExecuteTime": {
     "end_time": "2019-04-16T18:17:37.590929Z",
     "start_time": "2019-04-16T18:17:37.261187Z"
    }
   },
   "outputs": [
    {
     "data": {
      "image/png": "[encoded data removed]",
      "text/plain": [
       "<Figure size 432x288 with 1 Axes>"
      ]
     },
     "metadata": {
      "needs_background": "light"
     },
     "output_type": "display_data"
    }
   ],
   "source": [
    "imp = imp.to_frame().reset_index()\n",
    "imp.columns = ['feature','importance']\n",
    "ax = sns.barplot(\"importance\", y=\"feature\", data=imp,\n",
    "                  color=\"salmon\", saturation=.5)"
   ]
  },
  {
   "cell_type": "markdown",
   "metadata": {},
   "source": [
    "Gradient boosting performs even better than random forest, with lower quantile loss score and shorter time. It is also worth mention that the three most important features that may influence renting price is Latitude, longitude and size of the flat."
   ]
  },
  {
   "cell_type": "code",
   "execution_count": null,
   "metadata": {},
   "outputs": [],
   "source": []
  }
 ],
 "metadata": {
  "kernelspec": {
   "display_name": "Python 3",
   "language": "python",
   "name": "python3"
  },
  "language_info": {
   "codemirror_mode": {
    "name": "ipython",
    "version": 3
   },
   "file_extension": ".py",
   "mimetype": "text/x-python",
   "name": "python",
   "nbconvert_exporter": "python",
   "pygments_lexer": "ipython3",
   "version": "3.6.8"
  }
 },
 "nbformat": 4,
 "nbformat_minor": 2
}
